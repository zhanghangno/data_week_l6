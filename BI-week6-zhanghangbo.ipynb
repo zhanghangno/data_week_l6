{
 "cells": [
  {
   "cell_type": "code",
   "execution_count": 33,
   "metadata": {},
   "outputs": [],
   "source": [
    "#action \n",
    "#引入工具包\n",
    "from sklearn.svm import SVC,LinearSVC\n",
    "from sklearn.metrics import accuracy_score\n",
    "from sklearn.model_selection import train_test_split\n",
    "from sklearn.preprocessing import LabelEncoder,StandardScaler\n",
    "import pandas as pd\n",
    "from sklearn.linear_model  import  LinearRegression"
   ]
  },
  {
   "cell_type": "code",
   "execution_count": 18,
   "metadata": {},
   "outputs": [
    {
     "name": "stdout",
     "output_type": "stream",
     "text": [
      "<class 'pandas.core.frame.DataFrame'>\n",
      "(3168, 21)\n",
      "3168\n",
      "1584\n",
      "1584\n"
     ]
    }
   ],
   "source": [
    "#加载数据\n",
    "df = pd.read_csv(r\"C:/Users/zhanghangbo/Desktop/数据挖掘算法/第六周/code/voice/voice.csv\")\n",
    "print(type(df))\n",
    "df.isnull().sum()\n",
    "print(df.shape)\n",
    "#男女样本个数\n",
    "print(df.shape[0])\n",
    "#男声样本个数\n",
    "print(df[df.label==\"male\"].shape[0])\n",
    "#女声音本个数\n",
    "print((df[df.label==\"male\"]).shape[0])"
   ]
  },
  {
   "cell_type": "code",
   "execution_count": 21,
   "metadata": {},
   "outputs": [
    {
     "name": "stdout",
     "output_type": "stream",
     "text": [
      "0         male\n",
      "1         male\n",
      "2         male\n",
      "3         male\n",
      "4         male\n",
      "         ...  \n",
      "3163    female\n",
      "3164    female\n",
      "3165    female\n",
      "3166    female\n",
      "3167    female\n",
      "Name: label, Length: 3168, dtype: object\n"
     ]
    }
   ],
   "source": [
    "#分离样本特征label\n",
    "#除了最后一列得所有列\n",
    "X = df.iloc[:,:-1]\n",
    "#print(X)\n",
    "#所有行\n",
    "y = df.iloc[:,-1]\n",
    "print(y)"
   ]
  },
  {
   "cell_type": "code",
   "execution_count": 23,
   "metadata": {},
   "outputs": [],
   "source": [
    "#使用标签编码\n",
    "gender_encode = LabelEncoder()\n",
    "y = gender_encode.fit_transform(y)\n",
    "scler = StandardScaler()\n",
    "X = scler.fit_transform(X)\n",
    "\n"
   ]
  },
  {
   "cell_type": "code",
   "execution_count": 29,
   "metadata": {},
   "outputs": [
    {
     "name": "stdout",
     "output_type": "stream",
     "text": [
      "0.9810606060606061\n",
      "0.9810606060606061\n"
     ]
    }
   ],
   "source": [
    "#数据切分  \n",
    "X_train,X_test,y_train,y_test = train_test_split(X,y,test_size=0.25,random_state=2020)\n",
    "#用svc 训练模型\n",
    "svc = SVC()\n",
    "svc.fit(X_train,y_train)\n",
    "y_pred = svc.predict(X_test)\n",
    "#预测得结果为\n",
    "# print(y_pred)\n",
    "#正确率为\n",
    "print(svc.score(X_test,y_test))\n",
    "print(accuracy_score(y_pred,y_test))\n",
    "\n"
   ]
  },
  {
   "cell_type": "code",
   "execution_count": 31,
   "metadata": {},
   "outputs": [
    {
     "name": "stdout",
     "output_type": "stream",
     "text": [
      "0.8144027827718803\n"
     ]
    }
   ],
   "source": [
    "#lr 模型\n",
    "lr = LinearRegression()\n",
    "lr.fit(X_train,y_train)\n",
    "y_pred = lr.predict(X_test)\n",
    "print(lr.score(X_test,y_test))"
   ]
  },
  {
   "cell_type": "code",
   "execution_count": 35,
   "metadata": {},
   "outputs": [
    {
     "name": "stdout",
     "output_type": "stream",
     "text": [
      "0.9785353535353535\n",
      "0.9785353535353535\n"
     ]
    },
    {
     "name": "stderr",
     "output_type": "stream",
     "text": [
      "c:\\users\\zhanghangbo\\appdata\\local\\programs\\python\\python37\\lib\\site-packages\\sklearn\\svm\\_base.py:977: ConvergenceWarning: Liblinear failed to converge, increase the number of iterations.\n",
      "  \"the number of iterations.\", ConvergenceWarning)\n"
     ]
    }
   ],
   "source": [
    "#用svc 训练模型\n",
    "svc = LinearSVC()\n",
    "svc.fit(X_train,y_train)\n",
    "y_pred = svc.predict(X_test)\n",
    "#预测得结果为\n",
    "# print(y_pred)\n",
    "#正确率为\n",
    "print(svc.score(X_test,y_test))\n",
    "print(accuracy_score(y_pred,y_test))\n"
   ]
  },
  {
   "cell_type": "markdown",
   "metadata": {},
   "source": [
    "#XGBoost与GBDT的区别是什么？\n",
    "XGBoost属于梯度提升树模型这个范畴，GBDT得基本想法是让新的模型去拟合前面模型得偏差，从而不断将加法模型得偏差降低。相比经典得GBDT，XGBoost做了一些改进，从而在效果上和性能上又明显得提升。\n",
    "1.GBDT将目标函数泰勒展开到第一阶，而XGBoost将目标函数泰勒展开到了第二节阶\n",
    "2.GBDT是给新的模型寻找新的拟合标签，XGBoost是给新的模型寻找目标函数，\n",
    "3.XGBoost加入了L2正则化项，也增加了自动化处理"
   ]
  }
 ],
 "metadata": {
  "kernelspec": {
   "display_name": "Python 3",
   "language": "python",
   "name": "python3"
  },
  "language_info": {
   "codemirror_mode": {
    "name": "ipython",
    "version": 3
   },
   "file_extension": ".py",
   "mimetype": "text/x-python",
   "name": "python",
   "nbconvert_exporter": "python",
   "pygments_lexer": "ipython3",
   "version": "3.7.3"
  }
 },
 "nbformat": 4,
 "nbformat_minor": 4
}
